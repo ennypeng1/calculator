{
 "cells": [
  {
   "cell_type": "code",
   "execution_count": 5,
   "metadata": {},
   "outputs": [
    {
     "name": "stdout",
     "output_type": "stream",
     "text": [
      "550\n",
      "450\n",
      "10.0\n",
      "0\n"
     ]
    }
   ],
   "source": [
    "## using the input function to prompt user to enter two numbers\n",
    "\n",
    "pluto1 = int (input('what is the first number'))\n",
    "pluto2 = int (input('what is the second number')) \n",
    "\n",
    "addition =pluto1 + pluto2\n",
    "subtraction = pluto1 - pluto2\n",
    "division = pluto1 / pluto2\n",
    "remainder = pluto1 % pluto2\n",
    "\n",
    "print(addition)\n",
    "print(subtraction)\n",
    "print (division)\n",
    "print (remainder)\n",
    "\n",
    "\n"
   ]
  }
 ],
 "metadata": {
  "kernelspec": {
   "display_name": "Python 3",
   "language": "python",
   "name": "python3"
  },
  "language_info": {
   "codemirror_mode": {
    "name": "ipython",
    "version": 3
   },
   "file_extension": ".py",
   "mimetype": "text/x-python",
   "name": "python",
   "nbconvert_exporter": "python",
   "pygments_lexer": "ipython3",
   "version": "3.11.5"
  },
  "orig_nbformat": 4
 },
 "nbformat": 4,
 "nbformat_minor": 2
}
